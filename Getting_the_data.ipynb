import tensorflow as tf
device_name = tf.test.gpu_device_name()
if device_name != '/device:GPU:0':
  raise SystemError('GPU device not found')
print('Found GPU at: {}'.format(device_name))
 
!apt-get install --no-install-recommends openmpi-bin libopenmpi-dev libopencv-dev python3-opencv python-opencv 
# import cntk as C

from google.colab import drive
drive.mount('/content/drive')
# %cd content

!unzip -q "drive/My Drive/axial.zip"
# !unzip -q "drive/My Drive/4CH_GBMALL.zip"
# !unzip -q "drive/My Drive/simplified_t1ce.zip"
# !unzip -q "drive/My Drive/Second_pack_gbm.zip"
# !unzip -q "drive/My Drive/Third_pack_gbm.zip"
# !unzip -q "drive/My Drive/Forth_pack_gbm.zip"
# !unzip -q "drive/My Drive/fifth_pack_gbm.zip"

# %cd ../

# import os
# os.mkdir('mei_imgs')
# os.mkdir('mei_msks')

# os.mkdir('mei')

# import shutil, sys
# shutil.copytree( "/content/mei_imgs","/content/mei/mei_imgs")
    
